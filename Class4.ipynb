{
 "cells": [
  {
   "cell_type": "code",
   "execution_count": 1,
   "id": "30e13199-a3c3-4c77-a7a5-d63fd0bf006b",
   "metadata": {},
   "outputs": [
    {
     "data": {
      "text/plain": [
       "13"
      ]
     },
     "execution_count": 1,
     "metadata": {},
     "output_type": "execute_result"
    }
   ],
   "source": [
    "5+8"
   ]
  },
  {
   "cell_type": "code",
   "execution_count": 2,
   "id": "ca8d7fd9-1df9-4be9-b3bf-06c01e6c004f",
   "metadata": {},
   "outputs": [
    {
     "data": {
      "text/plain": [
       "52"
      ]
     },
     "execution_count": 2,
     "metadata": {},
     "output_type": "execute_result"
    }
   ],
   "source": [
    "5_2"
   ]
  },
  {
   "cell_type": "code",
   "execution_count": 3,
   "id": "bfc0777e-305c-4cb7-ab12-6a046ab35bfa",
   "metadata": {},
   "outputs": [
    {
     "data": {
      "text/plain": [
       "3"
      ]
     },
     "execution_count": 3,
     "metadata": {},
     "output_type": "execute_result"
    }
   ],
   "source": [
    "5-2"
   ]
  },
  {
   "cell_type": "code",
   "execution_count": 4,
   "id": "928b7542-69a1-474c-b5c6-ba5219f44359",
   "metadata": {},
   "outputs": [
    {
     "data": {
      "text/plain": [
       "25"
      ]
     },
     "execution_count": 4,
     "metadata": {},
     "output_type": "execute_result"
    }
   ],
   "source": [
    "5*5"
   ]
  },
  {
   "cell_type": "code",
   "execution_count": 5,
   "id": "5a19661e-b045-4bb8-9ee6-35ab30091709",
   "metadata": {},
   "outputs": [
    {
     "data": {
      "text/plain": [
       "5.0"
      ]
     },
     "execution_count": 5,
     "metadata": {},
     "output_type": "execute_result"
    }
   ],
   "source": [
    "25/5"
   ]
  },
  {
   "cell_type": "code",
   "execution_count": 6,
   "id": "42702684-67aa-455f-b98d-623018cc3357",
   "metadata": {},
   "outputs": [
    {
     "data": {
      "text/plain": [
       "256"
      ]
     },
     "execution_count": 6,
     "metadata": {},
     "output_type": "execute_result"
    }
   ],
   "source": [
    "2**8"
   ]
  },
  {
   "cell_type": "code",
   "execution_count": 7,
   "id": "ed6b5d3c-c011-48c8-b186-4278e95b296a",
   "metadata": {},
   "outputs": [
    {
     "data": {
      "text/plain": [
       "10"
      ]
     },
     "execution_count": 7,
     "metadata": {},
     "output_type": "execute_result"
    }
   ],
   "source": [
    "80//8"
   ]
  },
  {
   "cell_type": "code",
   "execution_count": 8,
   "id": "8d90580b-991c-4d46-8874-e8dbcb6cf32f",
   "metadata": {},
   "outputs": [
    {
     "data": {
      "text/plain": [
       "True"
      ]
     },
     "execution_count": 8,
     "metadata": {},
     "output_type": "execute_result"
    }
   ],
   "source": [
    "5>4"
   ]
  },
  {
   "cell_type": "code",
   "execution_count": 9,
   "id": "2d3897cc-c719-4d08-8a7d-ab659cf144c8",
   "metadata": {},
   "outputs": [
    {
     "data": {
      "text/plain": [
       "False"
      ]
     },
     "execution_count": 9,
     "metadata": {},
     "output_type": "execute_result"
    }
   ],
   "source": [
    "5<4"
   ]
  },
  {
   "cell_type": "code",
   "execution_count": 10,
   "id": "9e3c4a8d-c711-498e-864b-2ebf5cbdba4e",
   "metadata": {},
   "outputs": [
    {
     "data": {
      "text/plain": [
       "True"
      ]
     },
     "execution_count": 10,
     "metadata": {},
     "output_type": "execute_result"
    }
   ],
   "source": [
    "5 !=4"
   ]
  },
  {
   "cell_type": "code",
   "execution_count": 11,
   "id": "b31cde50-b2e7-443b-945a-7ce0b8fc00fa",
   "metadata": {},
   "outputs": [
    {
     "data": {
      "text/plain": [
       "True"
      ]
     },
     "execution_count": 11,
     "metadata": {},
     "output_type": "execute_result"
    }
   ],
   "source": [
    "\"s\"==\"s\""
   ]
  },
  {
   "cell_type": "code",
   "execution_count": 12,
   "id": "fc805d03-8e04-4422-b29b-56da5570df66",
   "metadata": {},
   "outputs": [
    {
     "data": {
      "text/plain": [
       "True"
      ]
     },
     "execution_count": 12,
     "metadata": {},
     "output_type": "execute_result"
    }
   ],
   "source": [
    "\"S\"!=\"s\""
   ]
  },
  {
   "cell_type": "code",
   "execution_count": 13,
   "id": "ddd8d82e-7d41-4ae3-b409-d5bdafb1691c",
   "metadata": {},
   "outputs": [],
   "source": [
    "name=\"debashish\""
   ]
  },
  {
   "cell_type": "code",
   "execution_count": 14,
   "id": "f965e7cd-2e0b-4e8b-b5b8-5fb979bb7608",
   "metadata": {},
   "outputs": [
    {
     "data": {
      "text/plain": [
       "'debashish'"
      ]
     },
     "execution_count": 14,
     "metadata": {},
     "output_type": "execute_result"
    }
   ],
   "source": [
    "name"
   ]
  },
  {
   "cell_type": "code",
   "execution_count": 15,
   "id": "f2cb2306-6f1e-4034-b86e-a98511f878ab",
   "metadata": {},
   "outputs": [
    {
     "name": "stdout",
     "output_type": "stream",
     "text": [
      "True\n"
     ]
    }
   ],
   "source": [
    "print(\"code\" not in name)"
   ]
  },
  {
   "cell_type": "code",
   "execution_count": 16,
   "id": "d1cf6e77-2e93-46fc-96e5-029e94beaf9f",
   "metadata": {},
   "outputs": [
    {
     "name": "stdout",
     "output_type": "stream",
     "text": [
      "d\n",
      "e\n",
      "b\n",
      "a\n",
      "s\n",
      "h\n",
      "i\n",
      "s\n",
      "h\n"
     ]
    }
   ],
   "source": [
    "for I in name:\n",
    "    print (I)"
   ]
  },
  {
   "cell_type": "code",
   "execution_count": 17,
   "id": "a38a198b-cea7-4ee2-a2fc-57ffa63494f7",
   "metadata": {},
   "outputs": [],
   "source": [
    "my_list=[4,7,0]"
   ]
  },
  {
   "cell_type": "code",
   "execution_count": 18,
   "id": "526f9773-6911-4a7b-a001-73bdcced961b",
   "metadata": {},
   "outputs": [
    {
     "data": {
      "text/plain": [
       "[4, 7, 0]"
      ]
     },
     "execution_count": 18,
     "metadata": {},
     "output_type": "execute_result"
    }
   ],
   "source": [
    "my_list"
   ]
  },
  {
   "cell_type": "code",
   "execution_count": 19,
   "id": "38f4ff82-f649-4edc-ae23-54d85e1bb76b",
   "metadata": {},
   "outputs": [
    {
     "name": "stdout",
     "output_type": "stream",
     "text": [
      "4\n",
      "7\n",
      "0\n"
     ]
    }
   ],
   "source": [
    "for item in my_list:\n",
    "    print(item)"
   ]
  },
  {
   "cell_type": "code",
   "execution_count": 20,
   "id": "3cae5a71-c810-495b-8c28-b5fbc2b35df8",
   "metadata": {},
   "outputs": [],
   "source": [
    "iterator = iter(my_list)"
   ]
  },
  {
   "cell_type": "code",
   "execution_count": 21,
   "id": "2325b633-459d-4400-81a0-206a6bfc4c82",
   "metadata": {},
   "outputs": [
    {
     "name": "stdout",
     "output_type": "stream",
     "text": [
      "<list_iterator object at 0x00000166D0481EA0>\n"
     ]
    }
   ],
   "source": [
    "print(iterator)"
   ]
  },
  {
   "cell_type": "code",
   "execution_count": 22,
   "id": "911bc079-8e70-4c82-aea2-bbf389f581e6",
   "metadata": {},
   "outputs": [],
   "source": [
    "my_list=[4,7,0]"
   ]
  },
  {
   "cell_type": "code",
   "execution_count": 23,
   "id": "5d3ad352-78fe-4a69-bbdd-979f27f83a98",
   "metadata": {},
   "outputs": [],
   "source": [
    "iterator = iter(my_list)"
   ]
  },
  {
   "cell_type": "code",
   "execution_count": 24,
   "id": "4f030d70-4046-45e3-b776-fb9c02a74c5b",
   "metadata": {},
   "outputs": [
    {
     "name": "stdout",
     "output_type": "stream",
     "text": [
      "4\n"
     ]
    }
   ],
   "source": [
    "print(next(iterator))"
   ]
  },
  {
   "cell_type": "code",
   "execution_count": 25,
   "id": "52319d31-abad-4df6-be0b-6bbacbda724d",
   "metadata": {},
   "outputs": [
    {
     "name": "stdout",
     "output_type": "stream",
     "text": [
      "7\n"
     ]
    }
   ],
   "source": [
    "print(next(iterator))"
   ]
  },
  {
   "cell_type": "code",
   "execution_count": 26,
   "id": "4f8bfc57-8da9-4d0f-a74f-40299adb5722",
   "metadata": {},
   "outputs": [
    {
     "name": "stdout",
     "output_type": "stream",
     "text": [
      "0\n"
     ]
    }
   ],
   "source": [
    "print(next(iterator))"
   ]
  },
  {
   "cell_type": "code",
   "execution_count": 27,
   "id": "7662e165-5c96-4036-b849-6a07b7819df2",
   "metadata": {},
   "outputs": [
    {
     "data": {
      "text/plain": [
       "range(0, 10)"
      ]
     },
     "execution_count": 27,
     "metadata": {},
     "output_type": "execute_result"
    }
   ],
   "source": [
    "range(0,10)"
   ]
  },
  {
   "cell_type": "code",
   "execution_count": 28,
   "id": "81857c0c-ced9-4f67-816c-a90c94da09b6",
   "metadata": {},
   "outputs": [
    {
     "name": "stdout",
     "output_type": "stream",
     "text": [
      "range(1, 10)\n"
     ]
    }
   ],
   "source": [
    "print(range(1,10))"
   ]
  },
  {
   "cell_type": "code",
   "execution_count": 33,
   "id": "e78a2b81-0ada-4164-9481-c7f692317f86",
   "metadata": {},
   "outputs": [
    {
     "name": "stdout",
     "output_type": "stream",
     "text": [
      "1\n",
      "2\n",
      "3\n",
      "4\n",
      "5\n",
      "6\n",
      "7\n",
      "8\n",
      "9\n"
     ]
    }
   ],
   "source": [
    "for num in range(1,10):\n",
    "    print(num)"
   ]
  },
  {
   "cell_type": "code",
   "execution_count": 34,
   "id": "3708cd6d-4fe1-4680-8cbc-a8d93a81377c",
   "metadata": {},
   "outputs": [
    {
     "name": "stdout",
     "output_type": "stream",
     "text": [
      "1\n",
      "3\n",
      "5\n",
      "7\n",
      "9\n"
     ]
    }
   ],
   "source": [
    "for num in range(1,10,2):\n",
    "    print(num)"
   ]
  },
  {
   "cell_type": "code",
   "execution_count": 35,
   "id": "4776af3a-8db4-48c8-9fc5-651af1546bda",
   "metadata": {},
   "outputs": [],
   "source": [
    "b= \"hello, world!\""
   ]
  },
  {
   "cell_type": "code",
   "execution_count": 38,
   "id": "6e8a824e-8e9d-4ec3-bfb3-ff65013e8c64",
   "metadata": {},
   "outputs": [
    {
     "data": {
      "text/plain": [
       "'hello, world!'"
      ]
     },
     "execution_count": 38,
     "metadata": {},
     "output_type": "execute_result"
    }
   ],
   "source": [
    "b[0:]"
   ]
  },
  {
   "cell_type": "code",
   "execution_count": 39,
   "id": "da37a1a8-2dd2-4cd6-b3d7-5e3bd5a4392d",
   "metadata": {},
   "outputs": [
    {
     "data": {
      "text/plain": [
       "'orl'"
      ]
     },
     "execution_count": 39,
     "metadata": {},
     "output_type": "execute_result"
    }
   ],
   "source": [
    "b[-5:-2]"
   ]
  },
  {
   "cell_type": "code",
   "execution_count": 45,
   "id": "8bc23aa2-487e-4468-be85-92e0db936292",
   "metadata": {},
   "outputs": [],
   "source": [
    "a= \"Hello, World\""
   ]
  },
  {
   "cell_type": "code",
   "execution_count": 46,
   "id": "8865ba6a-d154-432e-988b-944579e06c05",
   "metadata": {},
   "outputs": [
    {
     "data": {
      "text/plain": [
       "'HELLO, WORLD'"
      ]
     },
     "execution_count": 46,
     "metadata": {},
     "output_type": "execute_result"
    }
   ],
   "source": [
    "a.upper()"
   ]
  },
  {
   "cell_type": "code",
   "execution_count": 47,
   "id": "f56b7766-ae59-4bd1-8be1-aecd1ea5bb4c",
   "metadata": {},
   "outputs": [
    {
     "data": {
      "text/plain": [
       "'hello, world'"
      ]
     },
     "execution_count": 47,
     "metadata": {},
     "output_type": "execute_result"
    }
   ],
   "source": [
    "a.lower()"
   ]
  },
  {
   "cell_type": "code",
   "execution_count": 48,
   "id": "5d381aba-9664-4bc9-a1cd-95603589c3f0",
   "metadata": {},
   "outputs": [
    {
     "data": {
      "text/plain": [
       "'Hello, World'"
      ]
     },
     "execution_count": 48,
     "metadata": {},
     "output_type": "execute_result"
    }
   ],
   "source": [
    "a.title()"
   ]
  },
  {
   "cell_type": "code",
   "execution_count": 49,
   "id": "10d0bd5b-d680-4e0a-a01b-2925101a73bd",
   "metadata": {},
   "outputs": [
    {
     "data": {
      "text/plain": [
       "'Hello, World'"
      ]
     },
     "execution_count": 49,
     "metadata": {},
     "output_type": "execute_result"
    }
   ],
   "source": [
    "a.strip()"
   ]
  },
  {
   "cell_type": "code",
   "execution_count": 51,
   "id": "6020c022-42a7-41a3-92d0-cab63621df85",
   "metadata": {},
   "outputs": [
    {
     "data": {
      "text/plain": [
       "'Jello, World'"
      ]
     },
     "execution_count": 51,
     "metadata": {},
     "output_type": "execute_result"
    }
   ],
   "source": [
    "a.replace(\"H\", \"J\")"
   ]
  },
  {
   "cell_type": "code",
   "execution_count": 52,
   "id": "1a0eed41-15bd-4645-a959-3e306b08194b",
   "metadata": {},
   "outputs": [
    {
     "data": {
      "text/plain": [
       "'Hello, World'"
      ]
     },
     "execution_count": 52,
     "metadata": {},
     "output_type": "execute_result"
    }
   ],
   "source": [
    "a"
   ]
  },
  {
   "cell_type": "code",
   "execution_count": 53,
   "id": "7cd5375a-274f-481a-ac64-a0488f13c128",
   "metadata": {},
   "outputs": [],
   "source": [
    "a=\"Hello\""
   ]
  },
  {
   "cell_type": "raw",
   "id": "91beedf6-c646-4257-b22d-f426d2c76a01",
   "metadata": {},
   "source": []
  },
  {
   "cell_type": "code",
   "execution_count": 57,
   "id": "84bdb587-741d-4179-97a5-8d0aea65c725",
   "metadata": {},
   "outputs": [],
   "source": [
    "b=\" World\""
   ]
  },
  {
   "cell_type": "code",
   "execution_count": 58,
   "id": "53ae8c6a-9724-4959-8cc3-a458d6fb2e83",
   "metadata": {},
   "outputs": [
    {
     "name": "stdout",
     "output_type": "stream",
     "text": [
      "Hello World\n"
     ]
    }
   ],
   "source": [
    "print(a+b)"
   ]
  },
  {
   "cell_type": "code",
   "execution_count": 60,
   "id": "d9d3872c-609b-4ad1-82e1-0a4473ad5ace",
   "metadata": {},
   "outputs": [],
   "source": [
    "age= 31"
   ]
  },
  {
   "cell_type": "code",
   "execution_count": 63,
   "id": "e74f34cb-c5ce-4669-aea5-8be026f08e22",
   "metadata": {},
   "outputs": [
    {
     "data": {
      "text/plain": [
       "'my name is debashish, I am + 31'"
      ]
     },
     "execution_count": 63,
     "metadata": {},
     "output_type": "execute_result"
    }
   ],
   "source": [
    "txt= f\"my name is debashish, I am + {age}\"\n",
    "txt"
   ]
  },
  {
   "cell_type": "code",
   "execution_count": 74,
   "id": "65074337-94d4-4878-a57b-79c660f43ca0",
   "metadata": {},
   "outputs": [],
   "source": [
    "price= 83"
   ]
  },
  {
   "cell_type": "code",
   "execution_count": 75,
   "id": "b8839afc-8e2e-4604-874c-621c00e2a2be",
   "metadata": {},
   "outputs": [],
   "source": [
    "txt = f\"The price is {price} dollar\""
   ]
  },
  {
   "cell_type": "code",
   "execution_count": 76,
   "id": "580d83c9-bc1a-4ad1-8033-a3d59497f23a",
   "metadata": {},
   "outputs": [
    {
     "data": {
      "text/plain": [
       "'The price is 83 dollar'"
      ]
     },
     "execution_count": 76,
     "metadata": {},
     "output_type": "execute_result"
    }
   ],
   "source": [
    "txt"
   ]
  },
  {
   "cell_type": "code",
   "execution_count": 78,
   "id": "4a205e19-e52c-4d3e-85d4-d0a5a04fa8a4",
   "metadata": {},
   "outputs": [
    {
     "data": {
      "text/plain": [
       "[1, 2, 3]"
      ]
     },
     "execution_count": 78,
     "metadata": {},
     "output_type": "execute_result"
    }
   ],
   "source": [
    "a=[1,2,3]\n",
    "a"
   ]
  },
  {
   "cell_type": "code",
   "execution_count": 79,
   "id": "48a11df9-2cdf-4b99-940b-a517552c7741",
   "metadata": {},
   "outputs": [],
   "source": [
    "b=list((1,2,2,3,))"
   ]
  },
  {
   "cell_type": "markdown",
   "id": "ea93e064-d887-44cb-8e29-a13550476b95",
   "metadata": {},
   "source": []
  },
  {
   "cell_type": "code",
   "execution_count": 80,
   "id": "f94692ee-877b-41fd-8121-e05d684be6e9",
   "metadata": {},
   "outputs": [
    {
     "data": {
      "text/plain": [
       "[1, 2, 2, 3]"
      ]
     },
     "execution_count": 80,
     "metadata": {},
     "output_type": "execute_result"
    }
   ],
   "source": [
    "b"
   ]
  },
  {
   "cell_type": "code",
   "execution_count": 81,
   "id": "3d537ba2-27b2-4c09-bc6f-837ff5105fd9",
   "metadata": {},
   "outputs": [
    {
     "data": {
      "text/plain": [
       "list"
      ]
     },
     "execution_count": 81,
     "metadata": {},
     "output_type": "execute_result"
    }
   ],
   "source": [
    "type(b)"
   ]
  },
  {
   "cell_type": "code",
   "execution_count": 83,
   "id": "f27ce576-e944-40db-830d-d6ffcfd4b3e2",
   "metadata": {},
   "outputs": [
    {
     "ename": "SyntaxError",
     "evalue": "unterminated string literal (detected at line 1) (3473266481.py, line 1)",
     "output_type": "error",
     "traceback": [
      "\u001b[1;36m  Cell \u001b[1;32mIn[83], line 1\u001b[1;36m\u001b[0m\n\u001b[1;33m    list1 = [\"code, \"square\", \"class\", \"class\"]\u001b[0m\n\u001b[1;37m                                             ^\u001b[0m\n\u001b[1;31mSyntaxError\u001b[0m\u001b[1;31m:\u001b[0m unterminated string literal (detected at line 1)\n"
     ]
    }
   ],
   "source": [
    "list1 = [\"code, \"square\", \"class\", \"class\"]"
   ]
  },
  {
   "cell_type": "code",
   "execution_count": 84,
   "id": "57d73d23-22e4-412d-9e80-287c41645fd4",
   "metadata": {},
   "outputs": [],
   "source": [
    "list2 =[1,5,7,9,3]"
   ]
  },
  {
   "cell_type": "code",
   "execution_count": 85,
   "id": "19177117-13f8-4f00-be12-d32f45e8e378",
   "metadata": {},
   "outputs": [],
   "source": [
    "list3=[True, False, True]"
   ]
  },
  {
   "cell_type": "code",
   "execution_count": 87,
   "id": "dd546d5a-6ffd-445c-b5e6-119e2740de11",
   "metadata": {},
   "outputs": [],
   "source": [
    "thislist = [\"code\", \"square\", \"live\", \"bootcamp\"]"
   ]
  },
  {
   "cell_type": "code",
   "execution_count": 89,
   "id": "2b97a2bb-6c66-4220-b67c-e7db63fe45ca",
   "metadata": {},
   "outputs": [
    {
     "data": {
      "text/plain": [
       "'code'"
      ]
     },
     "execution_count": 89,
     "metadata": {},
     "output_type": "execute_result"
    }
   ],
   "source": [
    "thislist[0]"
   ]
  },
  {
   "cell_type": "code",
   "execution_count": 90,
   "id": "9b3cb0a9-6829-4859-96c9-3b778d01333f",
   "metadata": {},
   "outputs": [
    {
     "data": {
      "text/plain": [
       "['code', 'square', [40, 'day'], 'bootcamp']"
      ]
     },
     "execution_count": 90,
     "metadata": {},
     "output_type": "execute_result"
    }
   ],
   "source": [
    "list_in_list = [\"code\", \"square\", [40,\"day\"], \"bootcamp\"]\n",
    "list_in_list"
   ]
  },
  {
   "cell_type": "code",
   "execution_count": 93,
   "id": "c7d6b4ec-c6df-4dac-bd6d-3468ec5496a7",
   "metadata": {},
   "outputs": [
    {
     "data": {
      "text/plain": [
       "'day'"
      ]
     },
     "execution_count": 93,
     "metadata": {},
     "output_type": "execute_result"
    }
   ],
   "source": [
    "list_in_list[2][1]"
   ]
  },
  {
   "cell_type": "code",
   "execution_count": 95,
   "id": "d41957a5-a26a-4966-ae6a-c34d8c39d3d1",
   "metadata": {},
   "outputs": [],
   "source": [
    "thislist = [\"apple\", \"banana\", \"cherry\"]\n",
    "thislist[1]= \"kiwi\""
   ]
  },
  {
   "cell_type": "code",
   "execution_count": 96,
   "id": "b33689fb-0d47-4bc5-b4fd-0a1ee705d1ab",
   "metadata": {},
   "outputs": [
    {
     "data": {
      "text/plain": [
       "['apple', 'kiwi', 'cherry']"
      ]
     },
     "execution_count": 96,
     "metadata": {},
     "output_type": "execute_result"
    }
   ],
   "source": [
    "thislist"
   ]
  },
  {
   "cell_type": "code",
   "execution_count": 97,
   "id": "79297bb8-6825-4c85-8f6f-a96863cabcbc",
   "metadata": {},
   "outputs": [],
   "source": [
    "thislist = [\"code\", \"square\", \"class\", \"is\", \"fun\"]"
   ]
  },
  {
   "cell_type": "code",
   "execution_count": 98,
   "id": "3583f05a-5636-42c8-a60a-e9fc849d0f85",
   "metadata": {},
   "outputs": [],
   "source": [
    "thislist = [\"code\", \"square\", \"class\", \"is\", \"fun\"]\n",
    "thislist[-1]=\"live\"\n"
   ]
  },
  {
   "cell_type": "code",
   "execution_count": 99,
   "id": "fb6c65b3-96af-4e50-82c2-804a6b9bc90d",
   "metadata": {},
   "outputs": [
    {
     "data": {
      "text/plain": [
       "['code', 'square', 'class', 'is', 'live']"
      ]
     },
     "execution_count": 99,
     "metadata": {},
     "output_type": "execute_result"
    }
   ],
   "source": [
    "thislist"
   ]
  },
  {
   "cell_type": "code",
   "execution_count": 100,
   "id": "48281557-3087-49f6-aea4-f037c74dce31",
   "metadata": {},
   "outputs": [],
   "source": [
    "thislist[1:3]=[\"apple\",\"banana\"]"
   ]
  },
  {
   "cell_type": "code",
   "execution_count": 101,
   "id": "af85139a-89a2-4525-b2c0-d75510bc022b",
   "metadata": {},
   "outputs": [
    {
     "data": {
      "text/plain": [
       "['code', 'apple', 'banana', 'is', 'live']"
      ]
     },
     "execution_count": 101,
     "metadata": {},
     "output_type": "execute_result"
    }
   ],
   "source": [
    "thislist"
   ]
  },
  {
   "cell_type": "code",
   "execution_count": 102,
   "id": "3f5b55c8-7411-424b-90d0-ac4d28995f9b",
   "metadata": {},
   "outputs": [],
   "source": [
    "thislist.append(\"orange\")"
   ]
  },
  {
   "cell_type": "code",
   "execution_count": 104,
   "id": "74e0ebb7-af5a-40ab-8118-6aa5c655db98",
   "metadata": {},
   "outputs": [],
   "source": [
    "thislist.insert(1,\"orange\")"
   ]
  },
  {
   "cell_type": "code",
   "execution_count": 105,
   "id": "fd55162b-82da-4d9b-8984-74b410f9b5fe",
   "metadata": {},
   "outputs": [
    {
     "data": {
      "text/plain": [
       "['code', 'orange', 'apple', 'banana', 'is', 'live', 'orange']"
      ]
     },
     "execution_count": 105,
     "metadata": {},
     "output_type": "execute_result"
    }
   ],
   "source": [
    "thislist"
   ]
  },
  {
   "cell_type": "code",
   "execution_count": 106,
   "id": "511b6bc8-3bb1-4900-92d3-33591a221bf6",
   "metadata": {},
   "outputs": [],
   "source": [
    "thislist.remove(\"banana\")"
   ]
  },
  {
   "cell_type": "code",
   "execution_count": 107,
   "id": "af6f1e67-3baf-47d8-8abc-8041626b5782",
   "metadata": {},
   "outputs": [
    {
     "data": {
      "text/plain": [
       "['code', 'orange', 'apple', 'is', 'live', 'orange']"
      ]
     },
     "execution_count": 107,
     "metadata": {},
     "output_type": "execute_result"
    }
   ],
   "source": [
    "thislist"
   ]
  },
  {
   "cell_type": "code",
   "execution_count": 108,
   "id": "2dfcd350-df37-4282-a2d3-c692c81cc7c4",
   "metadata": {},
   "outputs": [],
   "source": [
    "del thislist[0]"
   ]
  },
  {
   "cell_type": "code",
   "execution_count": 109,
   "id": "41652273-7408-4c1f-8264-b3ccc28733e8",
   "metadata": {},
   "outputs": [
    {
     "data": {
      "text/plain": [
       "['orange', 'apple', 'is', 'live', 'orange']"
      ]
     },
     "execution_count": 109,
     "metadata": {},
     "output_type": "execute_result"
    }
   ],
   "source": [
    "thislist"
   ]
  },
  {
   "cell_type": "code",
   "execution_count": 110,
   "id": "a02089f6-9f69-4816-9814-3a442a866cd0",
   "metadata": {},
   "outputs": [
    {
     "name": "stdout",
     "output_type": "stream",
     "text": [
      "yes, Apple present\n"
     ]
    }
   ],
   "source": [
    "thislist = [\"apple\", \"banana\", \"cherry\"]\n",
    "if \"apple\" in thislist:\n",
    "    print(\"yes, Apple present\")\n",
    "else: print(\"not present\")"
   ]
  },
  {
   "cell_type": "code",
   "execution_count": 111,
   "id": "845a9f5e-ddaf-41ea-b7ee-4e5884663c3c",
   "metadata": {},
   "outputs": [
    {
     "name": "stdout",
     "output_type": "stream",
     "text": [
      "apple\n",
      "banana\n",
      "cherry\n"
     ]
    }
   ],
   "source": [
    "for x in thislist:\n",
    "    print(x)"
   ]
  },
  {
   "cell_type": "code",
   "execution_count": null,
   "id": "6cf6ecae-bef9-4b43-8d92-2d85bc20332f",
   "metadata": {},
   "outputs": [],
   "source": []
  }
 ],
 "metadata": {
  "kernelspec": {
   "display_name": "Python 3 (ipykernel)",
   "language": "python",
   "name": "python3"
  },
  "language_info": {
   "codemirror_mode": {
    "name": "ipython",
    "version": 3
   },
   "file_extension": ".py",
   "mimetype": "text/x-python",
   "name": "python",
   "nbconvert_exporter": "python",
   "pygments_lexer": "ipython3",
   "version": "3.12.7"
  }
 },
 "nbformat": 4,
 "nbformat_minor": 5
}
