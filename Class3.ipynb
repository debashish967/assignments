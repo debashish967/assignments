{
 "cells": [
  {
   "cell_type": "code",
   "execution_count": 1,
   "id": "9ac0df1a-7338-463b-aac6-369311a0901c",
   "metadata": {},
   "outputs": [],
   "source": [
    "var = 5"
   ]
  },
  {
   "cell_type": "code",
   "execution_count": 2,
   "id": "dcb4c170-ee87-44ac-9725-e8af4fb44d72",
   "metadata": {},
   "outputs": [
    {
     "data": {
      "text/plain": [
       "5"
      ]
     },
     "execution_count": 2,
     "metadata": {},
     "output_type": "execute_result"
    }
   ],
   "source": [
    "var"
   ]
  },
  {
   "cell_type": "code",
   "execution_count": 3,
   "id": "3bfee67e-b0e5-49bb-a87d-33ebcc68aacf",
   "metadata": {},
   "outputs": [
    {
     "name": "stdout",
     "output_type": "stream",
     "text": [
      "5\n"
     ]
    }
   ],
   "source": [
    "print(var)"
   ]
  },
  {
   "cell_type": "code",
   "execution_count": 4,
   "id": "479cea7f-f710-4c36-99db-9deb5eea3e64",
   "metadata": {},
   "outputs": [],
   "source": [
    "name = \"debashish\" #shift + ENTR"
   ]
  },
  {
   "cell_type": "code",
   "execution_count": 5,
   "id": "e3225014-bf00-4980-9804-f7edb5fc5f9d",
   "metadata": {},
   "outputs": [
    {
     "data": {
      "text/plain": [
       "'debashish'"
      ]
     },
     "execution_count": 5,
     "metadata": {},
     "output_type": "execute_result"
    }
   ],
   "source": [
    "name"
   ]
  },
  {
   "cell_type": "code",
   "execution_count": 6,
   "id": "f9ebcf7d-7370-4360-97c8-a1536e0ea7ed",
   "metadata": {},
   "outputs": [
    {
     "name": "stdout",
     "output_type": "stream",
     "text": [
      "d\n",
      "e\n",
      "b\n",
      "a\n",
      "s\n",
      "h\n",
      "i\n",
      "s\n",
      "h\n"
     ]
    }
   ],
   "source": [
    "for item in name :print(item)"
   ]
  },
  {
   "cell_type": "code",
   "execution_count": 7,
   "id": "7ded3948-0c9d-4777-883b-cfe0f70c7d71",
   "metadata": {},
   "outputs": [
    {
     "ename": "SyntaxError",
     "evalue": "invalid syntax (2968514315.py, line 1)",
     "output_type": "error",
     "traceback": [
      "\u001b[1;36m  Cell \u001b[1;32mIn[7], line 1\u001b[1;36m\u001b[0m\n\u001b[1;33m    This is my below xyz program\u001b[0m\n\u001b[1;37m               ^\u001b[0m\n\u001b[1;31mSyntaxError\u001b[0m\u001b[1;31m:\u001b[0m invalid syntax\n"
     ]
    }
   ],
   "source": [
    "This is my below xyz program"
   ]
  },
  {
   "cell_type": "code",
   "execution_count": null,
   "id": "2178ae03-1617-4563-9389-280250276b61",
   "metadata": {},
   "outputs": [],
   "source": [
    "# this is a comment.\n",
    "# this is my second\n",
    "# "
   ]
  },
  {
   "cell_type": "code",
   "execution_count": null,
   "id": "18df78f4-083a-4cbc-b5f7-5d26d3e94ed4",
   "metadata": {},
   "outputs": [],
   "source": [
    "x = 5"
   ]
  },
  {
   "cell_type": "code",
   "execution_count": null,
   "id": "c142158f-d749-4a39-b99c-b5ef8204c0c3",
   "metadata": {},
   "outputs": [],
   "source": [
    "y=\"Hello World\""
   ]
  },
  {
   "cell_type": "code",
   "execution_count": null,
   "id": "e2a3f5e3-3f57-4b23-83b8-0e24b2306e98",
   "metadata": {},
   "outputs": [],
   "source": [
    "print(x)"
   ]
  },
  {
   "cell_type": "code",
   "execution_count": null,
   "id": "17e7da8a-6557-4683-9e2e-e9cb0b61a022",
   "metadata": {},
   "outputs": [],
   "source": [
    "print(y)"
   ]
  },
  {
   "cell_type": "code",
   "execution_count": null,
   "id": "28ffea71-8eaf-43c1-b6d5-b2b896b61754",
   "metadata": {},
   "outputs": [],
   "source": [
    "x=3"
   ]
  },
  {
   "cell_type": "code",
   "execution_count": null,
   "id": "320e94f2-6cc6-4270-b2c2-9a752cf4bc06",
   "metadata": {},
   "outputs": [],
   "source": [
    "type(x)"
   ]
  },
  {
   "cell_type": "code",
   "execution_count": null,
   "id": "ac01a7c7-38aa-4bd6-a42d-fc67eb252233",
   "metadata": {},
   "outputs": [],
   "source": [
    "x=str(3)"
   ]
  },
  {
   "cell_type": "code",
   "execution_count": null,
   "id": "0157e796-448d-458e-a564-3d0df5bfbb06",
   "metadata": {},
   "outputs": [],
   "source": [
    "type(x)"
   ]
  },
  {
   "cell_type": "code",
   "execution_count": null,
   "id": "aa1d8833-26dd-41db-8b11-48996553902f",
   "metadata": {},
   "outputs": [],
   "source": [
    "y=int(3)"
   ]
  },
  {
   "cell_type": "code",
   "execution_count": null,
   "id": "88c4b6d9-53ed-40a5-8bde-33bc77ff8244",
   "metadata": {},
   "outputs": [],
   "source": [
    "y"
   ]
  },
  {
   "cell_type": "code",
   "execution_count": null,
   "id": "c75a9905-9498-4016-9d94-54cf10b89159",
   "metadata": {},
   "outputs": [],
   "source": [
    "y=float(3)"
   ]
  },
  {
   "cell_type": "code",
   "execution_count": null,
   "id": "7503a8ec-dda4-492d-bcd7-a542e4336ba8",
   "metadata": {},
   "outputs": [],
   "source": [
    "y"
   ]
  },
  {
   "cell_type": "code",
   "execution_count": null,
   "id": "9ba33668-786a-4b23-9060-ca640323054b",
   "metadata": {},
   "outputs": [],
   "source": [
    "a=12\n",
    "A='Debashish'"
   ]
  },
  {
   "cell_type": "code",
   "execution_count": null,
   "id": "22df8ad2-d5ee-404f-8f54-d1eaafa028f8",
   "metadata": {},
   "outputs": [],
   "source": [
    "a"
   ]
  },
  {
   "cell_type": "code",
   "execution_count": null,
   "id": "559da6bf-0576-44cd-aa48-b8583be7b374",
   "metadata": {},
   "outputs": [],
   "source": [
    "A"
   ]
  },
  {
   "cell_type": "code",
   "execution_count": null,
   "id": "0fad9270-9cea-4800-aebf-d2851b25687a",
   "metadata": {},
   "outputs": [],
   "source": [
    "myVariablename='debashish'"
   ]
  },
  {
   "cell_type": "code",
   "execution_count": 9,
   "id": "86ad91f2-f05e-400d-9a1e-c3754d58e70f",
   "metadata": {},
   "outputs": [],
   "source": [
    "x,y,z='data','science','debashish'"
   ]
  },
  {
   "cell_type": "code",
   "execution_count": 10,
   "id": "1f8671f3-2767-431b-8379-3b7d8013d27a",
   "metadata": {},
   "outputs": [
    {
     "name": "stdout",
     "output_type": "stream",
     "text": [
      "data\n"
     ]
    }
   ],
   "source": [
    "print(x)"
   ]
  },
  {
   "cell_type": "code",
   "execution_count": 11,
   "id": "b2ea427b-fbe0-444c-a455-194658e024ef",
   "metadata": {},
   "outputs": [
    {
     "name": "stdout",
     "output_type": "stream",
     "text": [
      "science\n"
     ]
    }
   ],
   "source": [
    "print(y)"
   ]
  },
  {
   "cell_type": "code",
   "execution_count": 12,
   "id": "53abee73-e516-451a-bd5e-6ba1fc466e73",
   "metadata": {},
   "outputs": [
    {
     "name": "stdout",
     "output_type": "stream",
     "text": [
      "debashish\n"
     ]
    }
   ],
   "source": [
    "print(z)"
   ]
  },
  {
   "cell_type": "code",
   "execution_count": null,
   "id": "5b674ac9-dcc6-4e93-9f8e-64b9999693df",
   "metadata": {},
   "outputs": [],
   "source": [
    "x=y=z='Data Science'"
   ]
  },
  {
   "cell_type": "code",
   "execution_count": 13,
   "id": "07bc0880-b555-439b-92cb-1080e9b34ccf",
   "metadata": {},
   "outputs": [],
   "source": [
    "a=[1,2,3]"
   ]
  },
  {
   "cell_type": "code",
   "execution_count": 14,
   "id": "32f5760c-d68a-438c-b4c0-57d8cefb245c",
   "metadata": {},
   "outputs": [
    {
     "data": {
      "text/plain": [
       "list"
      ]
     },
     "execution_count": 14,
     "metadata": {},
     "output_type": "execute_result"
    }
   ],
   "source": [
    "type(a)"
   ]
  },
  {
   "cell_type": "code",
   "execution_count": 15,
   "id": "397ef3d3-dabb-47a5-bb87-762581762fa4",
   "metadata": {},
   "outputs": [],
   "source": [
    "bootcamp=['My','code','Square']"
   ]
  },
  {
   "cell_type": "code",
   "execution_count": 16,
   "id": "ea51dc0c-4b89-4ab3-8c36-274a0a547bd1",
   "metadata": {},
   "outputs": [],
   "source": [
    "x,y,z=bootcamp"
   ]
  },
  {
   "cell_type": "code",
   "execution_count": 17,
   "id": "be4bde75-716d-4634-acdc-396557bef033",
   "metadata": {},
   "outputs": [
    {
     "name": "stdout",
     "output_type": "stream",
     "text": [
      "My\n",
      "code\n",
      "Square\n"
     ]
    }
   ],
   "source": [
    "print(x)\n",
    "print(y)\n",
    "print(z)"
   ]
  },
  {
   "cell_type": "code",
   "execution_count": 18,
   "id": "b6130f54-f63d-4d37-baed-2768495bb73f",
   "metadata": {},
   "outputs": [
    {
     "name": "stdout",
     "output_type": "stream",
     "text": [
      "My code Square\n"
     ]
    }
   ],
   "source": [
    "print(x,y,z)"
   ]
  },
  {
   "cell_type": "code",
   "execution_count": 19,
   "id": "8e72066a-e51c-4ad2-a8e6-895fdf562ec5",
   "metadata": {},
   "outputs": [],
   "source": [
    "x=\"Debashish\"\n",
    "y=\"is\"\n",
    "z=\"Awesome\""
   ]
  },
  {
   "cell_type": "code",
   "execution_count": 20,
   "id": "322c5d36-0302-4ae8-bbe8-530227cc4342",
   "metadata": {},
   "outputs": [
    {
     "name": "stdout",
     "output_type": "stream",
     "text": [
      "Debashish is Awesome\n"
     ]
    }
   ],
   "source": [
    "print(x,y,z)"
   ]
  },
  {
   "cell_type": "code",
   "execution_count": 21,
   "id": "88f03b1c-6a2c-4f23-875a-5f75239eb84c",
   "metadata": {},
   "outputs": [],
   "source": [
    "x=5\n",
    "y=10"
   ]
  },
  {
   "cell_type": "code",
   "execution_count": 22,
   "id": "e9a6de20-d0a9-4c68-9ec4-7215753de004",
   "metadata": {},
   "outputs": [
    {
     "name": "stdout",
     "output_type": "stream",
     "text": [
      "15\n"
     ]
    }
   ],
   "source": [
    "print(x+y)"
   ]
  },
  {
   "cell_type": "code",
   "execution_count": 30,
   "id": "cd2bf615-3c7a-4cfc-91c5-c759a82c0e76",
   "metadata": {},
   "outputs": [],
   "source": [
    "x=5\n",
    "y='Debashish'"
   ]
  },
  {
   "cell_type": "code",
   "execution_count": 31,
   "id": "f939fcea-9c78-4391-b4cb-8ef11626201d",
   "metadata": {},
   "outputs": [
    {
     "name": "stdout",
     "output_type": "stream",
     "text": [
      "5 Debashish\n"
     ]
    }
   ],
   "source": [
    "print(x,y)"
   ]
  },
  {
   "cell_type": "code",
   "execution_count": 32,
   "id": "8c5dbca4-0578-4404-8365-1aa503627a50",
   "metadata": {},
   "outputs": [],
   "source": [
    "x=1        #int\n",
    "y=2.8      #float\n",
    "z=1j       #complex\n",
    "zz='data'  #str"
   ]
  },
  {
   "cell_type": "code",
   "execution_count": 36,
   "id": "f2ba7d01-5742-42be-8339-8b0af87f3b5b",
   "metadata": {},
   "outputs": [],
   "source": [
    "x='3'"
   ]
  },
  {
   "cell_type": "code",
   "execution_count": 37,
   "id": "736283d6-d7b3-460b-bf5d-cb90faf72c5f",
   "metadata": {},
   "outputs": [
    {
     "data": {
      "text/plain": [
       "'3'"
      ]
     },
     "execution_count": 37,
     "metadata": {},
     "output_type": "execute_result"
    }
   ],
   "source": [
    "x"
   ]
  },
  {
   "cell_type": "code",
   "execution_count": 38,
   "id": "182eb44b-bcd0-4f1f-b995-1b032a2c05f3",
   "metadata": {},
   "outputs": [
    {
     "data": {
      "text/plain": [
       "str"
      ]
     },
     "execution_count": 38,
     "metadata": {},
     "output_type": "execute_result"
    }
   ],
   "source": [
    "type(x)"
   ]
  },
  {
   "cell_type": "code",
   "execution_count": 39,
   "id": "14b59f44-8091-4489-a1dc-2b7bdebd0500",
   "metadata": {},
   "outputs": [
    {
     "data": {
      "text/plain": [
       "3"
      ]
     },
     "execution_count": 39,
     "metadata": {},
     "output_type": "execute_result"
    }
   ],
   "source": [
    "int(x)"
   ]
  },
  {
   "cell_type": "code",
   "execution_count": 40,
   "id": "19325a3c-3a7c-4c71-b2a1-b0a33254d1ea",
   "metadata": {},
   "outputs": [],
   "source": [
    "a= \"\"\"Data science is the study of data\n",
    "to extract meaningful insights for business.\n",
    "It is a multidisciplinary approach that combines principle\n",
    "and practices from the field of mathematics, statistics,\n",
    "artificial intelligence,and computer engineering to analyze large amount of data.\"\"\""
   ]
  },
  {
   "cell_type": "code",
   "execution_count": 41,
   "id": "7b16c124-037f-46ca-b003-e8e853083d80",
   "metadata": {},
   "outputs": [
    {
     "name": "stdout",
     "output_type": "stream",
     "text": [
      "Data science is the study of data\n",
      "to extract meaningful insights for business.\n",
      "It is a multidisciplinary approach that combines principle\n",
      "and practices from the field of mathematics, statistics,\n",
      "artificial intelligence,and computer engineering to analyze large amount of data.\n"
     ]
    }
   ],
   "source": [
    "print (a)"
   ]
  },
  {
   "cell_type": "code",
   "execution_count": 43,
   "id": "be9f30fe-ad69-481b-865d-beed4cb44502",
   "metadata": {},
   "outputs": [
    {
     "name": "stdout",
     "output_type": "stream",
     "text": [
      "d\n",
      "a\n",
      "t\n",
      "a\n",
      " \n",
      "s\n",
      "c\n",
      "i\n",
      "e\n",
      "n\n",
      "c\n",
      "e\n"
     ]
    }
   ],
   "source": [
    "for item in \"data science\":\n",
    "    print (item)"
   ]
  },
  {
   "cell_type": "code",
   "execution_count": 44,
   "id": "b90befb7-3e50-4bd5-9d74-707a3c97b2ad",
   "metadata": {},
   "outputs": [
    {
     "data": {
      "text/plain": [
       "276"
      ]
     },
     "execution_count": 44,
     "metadata": {},
     "output_type": "execute_result"
    }
   ],
   "source": [
    "len (a)"
   ]
  },
  {
   "cell_type": "code",
   "execution_count": 46,
   "id": "5acf866d-eb2e-4172-b7ac-ef470e23379f",
   "metadata": {},
   "outputs": [
    {
     "name": "stdout",
     "output_type": "stream",
     "text": [
      "(\n",
      "a\n",
      ")\n"
     ]
    }
   ],
   "source": [
    "for item in \"(a)\":\n",
    "    print (item)"
   ]
  },
  {
   "cell_type": "code",
   "execution_count": 47,
   "id": "8c87e54d-7dbb-45f9-abb1-4a5f41603829",
   "metadata": {},
   "outputs": [],
   "source": [
    "txt= \"Code Square data science bootcamp\""
   ]
  },
  {
   "cell_type": "code",
   "execution_count": 48,
   "id": "45a11d37-dc4a-4b4f-95d3-15f524eff744",
   "metadata": {},
   "outputs": [
    {
     "name": "stdout",
     "output_type": "stream",
     "text": [
      "True\n"
     ]
    }
   ],
   "source": [
    "print(\"bootcamp\" in txt)"
   ]
  },
  {
   "cell_type": "code",
   "execution_count": 51,
   "id": "e996b52c-8660-4ede-a632-8039926a278d",
   "metadata": {},
   "outputs": [
    {
     "name": "stdout",
     "output_type": "stream",
     "text": [
      "yes, bootcamp present\n"
     ]
    }
   ],
   "source": [
    "if \"bootcamp\" in txt:\n",
    "    print(\"yes, bootcamp present\")\n",
    "else: print(\"not present\")"
   ]
  },
  {
   "cell_type": "code",
   "execution_count": 52,
   "id": "c490e9f4-6983-4b3f-b51b-b50071b3f0af",
   "metadata": {},
   "outputs": [
    {
     "name": "stdout",
     "output_type": "stream",
     "text": [
      "False\n"
     ]
    }
   ],
   "source": [
    "print(\"data\" not in txt)"
   ]
  },
  {
   "cell_type": "code",
   "execution_count": null,
   "id": "404bac92-8b35-40c9-8007-13baa1b72535",
   "metadata": {},
   "outputs": [],
   "source": []
  }
 ],
 "metadata": {
  "kernelspec": {
   "display_name": "Python 3 (ipykernel)",
   "language": "python",
   "name": "python3"
  },
  "language_info": {
   "codemirror_mode": {
    "name": "ipython",
    "version": 3
   },
   "file_extension": ".py",
   "mimetype": "text/x-python",
   "name": "python",
   "nbconvert_exporter": "python",
   "pygments_lexer": "ipython3",
   "version": "3.12.7"
  }
 },
 "nbformat": 4,
 "nbformat_minor": 5
}
