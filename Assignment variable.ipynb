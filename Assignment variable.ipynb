{
 "cells": [
  {
   "cell_type": "code",
   "execution_count": 1,
   "id": "95640344-6460-44d6-b525-821fd3da6e76",
   "metadata": {},
   "outputs": [],
   "source": [
    "Iphone15= 100000"
   ]
  },
  {
   "cell_type": "code",
   "execution_count": 2,
   "id": "864fca44-d0a0-4c60-b3ee-ed326b5c2e8f",
   "metadata": {},
   "outputs": [],
   "source": [
    "Discount=50000"
   ]
  },
  {
   "cell_type": "code",
   "execution_count": 3,
   "id": "c40e4f0e-3f8a-45e8-bab6-b0983772cacb",
   "metadata": {},
   "outputs": [
    {
     "data": {
      "text/plain": [
       "50000"
      ]
     },
     "execution_count": 3,
     "metadata": {},
     "output_type": "execute_result"
    }
   ],
   "source": [
    "Iphone15-Discount"
   ]
  },
  {
   "cell_type": "code",
   "execution_count": 8,
   "id": "8dc4de1c-5aa0-4e76-bd58-494e729d61d8",
   "metadata": {},
   "outputs": [
    {
     "data": {
      "text/plain": [
       "50000"
      ]
     },
     "execution_count": 8,
     "metadata": {},
     "output_type": "execute_result"
    }
   ],
   "source": [
    "Iphone15"
   ]
  },
  {
   "cell_type": "code",
   "execution_count": 14,
   "id": "c92de24c-b089-47f9-ad10-2e5e68370912",
   "metadata": {},
   "outputs": [],
   "source": [
    "mango=15"
   ]
  },
  {
   "cell_type": "code",
   "execution_count": 15,
   "id": "17bf4213-d2d3-4e37-8a4a-0b3868d0a34f",
   "metadata": {},
   "outputs": [],
   "source": [
    "less=5"
   ]
  },
  {
   "cell_type": "code",
   "execution_count": 16,
   "id": "8ef3f9cb-89e5-485b-8724-f487f14a3aae",
   "metadata": {},
   "outputs": [],
   "source": [
    "mango=mango-less"
   ]
  },
  {
   "cell_type": "code",
   "execution_count": 17,
   "id": "dd27ba23-5fe7-4aea-afb2-b8171bbb1b69",
   "metadata": {},
   "outputs": [
    {
     "data": {
      "text/plain": [
       "5"
      ]
     },
     "execution_count": 17,
     "metadata": {},
     "output_type": "execute_result"
    }
   ],
   "source": [
    "mango-less"
   ]
  },
  {
   "cell_type": "code",
   "execution_count": 18,
   "id": "512f0780-4f93-441e-8b98-e739ee2ed885",
   "metadata": {},
   "outputs": [
    {
     "data": {
      "text/plain": [
       "10"
      ]
     },
     "execution_count": 18,
     "metadata": {},
     "output_type": "execute_result"
    }
   ],
   "source": [
    "mango"
   ]
  },
  {
   "cell_type": "code",
   "execution_count": 19,
   "id": "dc232bbf-a4d9-402d-a018-7fbb3b1b3b79",
   "metadata": {},
   "outputs": [],
   "source": [
    "AshishAge=25"
   ]
  },
  {
   "cell_type": "markdown",
   "id": "2eefcc96-d201-48ec-b151-0285750015e9",
   "metadata": {},
   "source": []
  },
  {
   "cell_type": "code",
   "execution_count": 20,
   "id": "d25e82ea-4ad7-466a-9587-0cb620ebd72c",
   "metadata": {},
   "outputs": [],
   "source": [
    "MunuAge=10"
   ]
  },
  {
   "cell_type": "code",
   "execution_count": 21,
   "id": "1cee2b49-7e73-4d43-9f51-45c7b8070df0",
   "metadata": {},
   "outputs": [],
   "source": [
    "Gap=AshishAge-MunuAge"
   ]
  },
  {
   "cell_type": "code",
   "execution_count": 22,
   "id": "e738ad9b-1a9f-41bf-acf5-ba963d046105",
   "metadata": {},
   "outputs": [
    {
     "data": {
      "text/plain": [
       "15"
      ]
     },
     "execution_count": 22,
     "metadata": {},
     "output_type": "execute_result"
    }
   ],
   "source": [
    "AshishAge-MunuAge"
   ]
  },
  {
   "cell_type": "code",
   "execution_count": 23,
   "id": "f093c0b3-21fb-4632-b4ef-5fbba0a8f9f8",
   "metadata": {},
   "outputs": [
    {
     "data": {
      "text/plain": [
       "15"
      ]
     },
     "execution_count": 23,
     "metadata": {},
     "output_type": "execute_result"
    }
   ],
   "source": [
    "Gap"
   ]
  },
  {
   "cell_type": "code",
   "execution_count": null,
   "id": "ecce18ec-47a7-42c6-b9f4-a6cfa4742892",
   "metadata": {},
   "outputs": [],
   "source": []
  }
 ],
 "metadata": {
  "kernelspec": {
   "display_name": "Python 3 (ipykernel)",
   "language": "python",
   "name": "python3"
  },
  "language_info": {
   "codemirror_mode": {
    "name": "ipython",
    "version": 3
   },
   "file_extension": ".py",
   "mimetype": "text/x-python",
   "name": "python",
   "nbconvert_exporter": "python",
   "pygments_lexer": "ipython3",
   "version": "3.12.7"
  }
 },
 "nbformat": 4,
 "nbformat_minor": 5
}
