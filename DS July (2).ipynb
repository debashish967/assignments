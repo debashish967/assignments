{
 "cells": [
  {
   "cell_type": "markdown",
   "id": "3714775d",
   "metadata": {},
   "source": [
    "## Execute Python Syntax"
   ]
  },
  {
   "cell_type": "code",
   "execution_count": null,
   "id": "0a9c2d1a",
   "metadata": {},
   "outputs": [],
   "source": [
    "name = \"sohel\""
   ]
  },
  {
   "cell_type": "markdown",
   "id": "a60b6558",
   "metadata": {},
   "source": [
    "## Error "
   ]
  },
  {
   "cell_type": "code",
   "execution_count": null,
   "id": "ed211707",
   "metadata": {},
   "outputs": [],
   "source": [
    "for item in name :\n",
    "print(item)"
   ]
  },
  {
   "cell_type": "markdown",
   "id": "71393efe",
   "metadata": {},
   "source": [
    "## Comments"
   ]
  },
  {
   "cell_type": "code",
   "execution_count": null,
   "id": "010e2bbf",
   "metadata": {},
   "outputs": [],
   "source": [
    "#This is a comment.\n",
    "print(\"Hello, World!\")"
   ]
  },
  {
   "cell_type": "markdown",
   "id": "9225be61",
   "metadata": {},
   "source": [
    "## Variables in Python"
   ]
  },
  {
   "cell_type": "code",
   "execution_count": null,
   "id": "b418bd34",
   "metadata": {},
   "outputs": [],
   "source": [
    "x = 5\n",
    "y = \"Hello, World!\""
   ]
  },
  {
   "cell_type": "markdown",
   "id": "b50664f2",
   "metadata": {},
   "source": [
    "## Casting"
   ]
  },
  {
   "cell_type": "code",
   "execution_count": null,
   "id": "7aac4253",
   "metadata": {},
   "outputs": [],
   "source": [
    "x = str(3)    # x will be '3'\n",
    "y = int(3)    # y will be 3\n",
    "z = float(3)  # z will be 3.0"
   ]
  },
  {
   "cell_type": "markdown",
   "id": "f6c8825a",
   "metadata": {},
   "source": [
    "## Check Datatype"
   ]
  },
  {
   "cell_type": "code",
   "execution_count": null,
   "id": "11d2f953",
   "metadata": {},
   "outputs": [],
   "source": [
    "print(type(x))\n",
    "print(type(y))"
   ]
  },
  {
   "cell_type": "markdown",
   "id": "c683767d",
   "metadata": {},
   "source": [
    "## Single or Double Quotes?"
   ]
  },
  {
   "cell_type": "code",
   "execution_count": null,
   "id": "72b9e10d",
   "metadata": {},
   "outputs": [],
   "source": [
    "x = \"John\"\n",
    "# is the same as\n",
    "x = 'John'"
   ]
  },
  {
   "cell_type": "code",
   "execution_count": null,
   "id": "3a74c5af",
   "metadata": {},
   "outputs": [],
   "source": [
    "x"
   ]
  },
  {
   "cell_type": "markdown",
   "id": "fc7824d8",
   "metadata": {},
   "source": [
    "## Case-Sensitive\n",
    "Variable names are case-sensitive."
   ]
  },
  {
   "cell_type": "code",
   "execution_count": null,
   "id": "2d156256",
   "metadata": {},
   "outputs": [],
   "source": [
    "a = 4\n",
    "A = \"Sally\" \n",
    "#A will not overwrite a"
   ]
  },
  {
   "cell_type": "markdown",
   "id": "95616cce",
   "metadata": {},
   "source": [
    "## Variable Names"
   ]
  },
  {
   "cell_type": "markdown",
   "id": "36525533",
   "metadata": {},
   "source": [
    "A variable name must start with a letter or the underscore character\n",
    "A variable name cannot start with a number\n",
    "A variable name can only contain alpha-numeric characters and underscores (A-z, 0-9, and _ )\n",
    "Variable names are case-sensitive (age, Age and AGE are three different variables)\n",
    "A variable name cannot be any of the Python keywords."
   ]
  },
  {
   "cell_type": "markdown",
   "id": "6e9b1b62",
   "metadata": {},
   "source": [
    "Camel Case"
   ]
  },
  {
   "cell_type": "code",
   "execution_count": null,
   "id": "4257f54a",
   "metadata": {},
   "outputs": [],
   "source": [
    "myVariableName = \"Sohel\""
   ]
  },
  {
   "cell_type": "markdown",
   "id": "757cd483",
   "metadata": {},
   "source": [
    "Pascal Case"
   ]
  },
  {
   "cell_type": "code",
   "execution_count": null,
   "id": "c0afc523",
   "metadata": {},
   "outputs": [],
   "source": [
    "MyVariableName = \"Sohel\""
   ]
  },
  {
   "cell_type": "markdown",
   "id": "fd803ec0",
   "metadata": {},
   "source": [
    "Snake Case"
   ]
  },
  {
   "cell_type": "code",
   "execution_count": null,
   "id": "6096d281",
   "metadata": {},
   "outputs": [],
   "source": [
    "my_variable_name = \"John\""
   ]
  },
  {
   "cell_type": "markdown",
   "id": "e2a983ce",
   "metadata": {},
   "source": [
    "## Assign Multiple Values"
   ]
  },
  {
   "cell_type": "code",
   "execution_count": null,
   "id": "927219cc",
   "metadata": {},
   "outputs": [],
   "source": [
    "x, y, z = \"Data\", \"Science\", \"Code Square\"\n",
    "print(x)\n",
    "print(y)\n",
    "print(z)"
   ]
  },
  {
   "cell_type": "markdown",
   "id": "a84607c9",
   "metadata": {},
   "source": [
    "## One Value to Multiple Variables"
   ]
  },
  {
   "cell_type": "code",
   "execution_count": null,
   "id": "a3363ae1",
   "metadata": {},
   "outputs": [],
   "source": [
    "x = y = z = \"Data Science\"\n",
    "print(x)\n",
    "print(y)\n",
    "print(z)"
   ]
  },
  {
   "cell_type": "markdown",
   "id": "c849edc2",
   "metadata": {},
   "source": [
    "## Unpack a Collection"
   ]
  },
  {
   "cell_type": "code",
   "execution_count": null,
   "id": "ab1c7498",
   "metadata": {},
   "outputs": [],
   "source": [
    "bootcamp = [\"My\", \"Code\", \"Square\"]\n",
    "x, y, z = bootcamp\n",
    "print(x)\n",
    "print(y)\n",
    "print(z)"
   ]
  },
  {
   "cell_type": "markdown",
   "id": "93ed3893",
   "metadata": {},
   "source": [
    "### In the print() function, you output multiple variables, separated by a comma"
   ]
  },
  {
   "cell_type": "code",
   "execution_count": null,
   "id": "1dd8e770",
   "metadata": {},
   "outputs": [],
   "source": [
    "x = \"Code Square \"\n",
    "y = \"is\"\n",
    "z = \"awesome\"\n",
    "print(x, y, z)"
   ]
  },
  {
   "cell_type": "markdown",
   "id": "822d13d4",
   "metadata": {},
   "source": [
    "## You can also use the + operator to output multiple variables:"
   ]
  },
  {
   "cell_type": "code",
   "execution_count": null,
   "id": "c9a53510",
   "metadata": {},
   "outputs": [],
   "source": [
    "x = \"Code Square \"\n",
    "y = \"is \"\n",
    "z = \"awesome\"\n",
    "print(x + y + z)"
   ]
  },
  {
   "cell_type": "code",
   "execution_count": null,
   "id": "0dc4a86f",
   "metadata": {},
   "outputs": [],
   "source": [
    "x = 5\n",
    "y = 10\n",
    "print(x + y)"
   ]
  },
  {
   "cell_type": "markdown",
   "id": "1bf3c570",
   "metadata": {},
   "source": [
    "## Error"
   ]
  },
  {
   "cell_type": "code",
   "execution_count": null,
   "id": "642ff9ee",
   "metadata": {},
   "outputs": [],
   "source": [
    "x = 5\n",
    "y = \"John\"\n",
    "print(x + y)"
   ]
  },
  {
   "cell_type": "markdown",
   "id": "8a1360f1",
   "metadata": {},
   "source": [
    "## But You can Print"
   ]
  },
  {
   "cell_type": "code",
   "execution_count": null,
   "id": "c0138bab",
   "metadata": {},
   "outputs": [],
   "source": [
    "x = 5\n",
    "y = \"John\"\n",
    "print(x, y)"
   ]
  },
  {
   "cell_type": "markdown",
   "id": "ab79eeee",
   "metadata": {},
   "source": [
    "## What are the data types in python ?"
   ]
  },
  {
   "cell_type": "code",
   "execution_count": null,
   "id": "2ca1b86b",
   "metadata": {},
   "outputs": [],
   "source": [
    "x = 1    # int\n",
    "y = 2.8  # float\n",
    "z = 1j   # complex"
   ]
  },
  {
   "cell_type": "raw",
   "id": "9f72cd45",
   "metadata": {},
   "source": [
    "Text Type:\tstr\n",
    "Numeric Types:\tint, float, complex\n",
    "Sequence Types:\tlist, tuple, range\n",
    "Mapping Type:\tdict\n",
    "Set Types:\tset, frozenset\n",
    "Boolean Type:\tbool\n",
    "Binary Types:\tbytes, bytearray, memoryview\n",
    "None Type:\tNoneType"
   ]
  },
  {
   "cell_type": "markdown",
   "id": "fce74057",
   "metadata": {},
   "source": [
    "## Data Type Keywords "
   ]
  },
  {
   "cell_type": "code",
   "execution_count": null,
   "id": "3dbd07c9",
   "metadata": {},
   "outputs": [],
   "source": [
    " int(), float(), complex(), str()"
   ]
  },
  {
   "cell_type": "code",
   "execution_count": null,
   "id": "b236a7ad",
   "metadata": {},
   "outputs": [],
   "source": [
    "int(), float(), and complex()"
   ]
  },
  {
   "cell_type": "markdown",
   "id": "8be62119",
   "metadata": {},
   "source": [
    "you can convert from one type to another with the int(), float(), and complex() method"
   ]
  },
  {
   "cell_type": "markdown",
   "id": "4e41e72f",
   "metadata": {},
   "source": [
    "## Casting"
   ]
  },
  {
   "cell_type": "code",
   "execution_count": null,
   "id": "11133006",
   "metadata": {},
   "outputs": [],
   "source": [
    "x = 1    # int\n",
    "y = 2.8  # float\n",
    "z = 1j   # complex"
   ]
  },
  {
   "cell_type": "code",
   "execution_count": null,
   "id": "56f45837",
   "metadata": {},
   "outputs": [],
   "source": [
    "type(x)"
   ]
  },
  {
   "cell_type": "code",
   "execution_count": null,
   "id": "fb51f274",
   "metadata": {},
   "outputs": [],
   "source": [
    "a = float(x)"
   ]
  },
  {
   "cell_type": "code",
   "execution_count": null,
   "id": "d6a33ac7",
   "metadata": {},
   "outputs": [],
   "source": [
    "type(a)"
   ]
  },
  {
   "cell_type": "code",
   "execution_count": null,
   "id": "76053b22",
   "metadata": {},
   "outputs": [],
   "source": [
    "#convert from float to int:\n",
    "b = int(y)\n",
    "\n",
    "#convert from int to complex:\n",
    "c = complex(x)"
   ]
  },
  {
   "cell_type": "markdown",
   "id": "205efcea",
   "metadata": {},
   "source": [
    "## String Cating"
   ]
  },
  {
   "cell_type": "code",
   "execution_count": null,
   "id": "34411c69",
   "metadata": {},
   "outputs": [],
   "source": [
    "x = str(\"s1\") # x will be 's1'\n",
    "y = str(2)    # y will be '2'\n",
    "z = str(3.0)  # z will be '3.0'"
   ]
  },
  {
   "cell_type": "code",
   "execution_count": null,
   "id": "d23e7fef",
   "metadata": {},
   "outputs": [],
   "source": [
    "x"
   ]
  },
  {
   "cell_type": "code",
   "execution_count": null,
   "id": "2379bcc4",
   "metadata": {},
   "outputs": [],
   "source": [
    "y"
   ]
  },
  {
   "cell_type": "code",
   "execution_count": null,
   "id": "776980dd",
   "metadata": {},
   "outputs": [],
   "source": [
    "z"
   ]
  },
  {
   "cell_type": "markdown",
   "id": "aadd101c",
   "metadata": {},
   "source": [
    "## Multiline Strings"
   ]
  },
  {
   "cell_type": "code",
   "execution_count": null,
   "id": "d7db42fd",
   "metadata": {},
   "outputs": [],
   "source": [
    "a = \"\"\"Data science is the study of data\n",
    "to extract meaningful insights for business. \n",
    "It is a multidisciplinary approach that combines principles\n",
    "and practices from the fields of mathematics, statistics, \n",
    "artificial intelligence, and computer engineering to analyze \n",
    "large amounts of data.\"\"\""
   ]
  },
  {
   "cell_type": "code",
   "execution_count": null,
   "id": "cf9ae83d",
   "metadata": {},
   "outputs": [],
   "source": [
    "a "
   ]
  },
  {
   "cell_type": "markdown",
   "id": "ebc5e7d6",
   "metadata": {},
   "source": [
    "# Looping "
   ]
  },
  {
   "cell_type": "code",
   "execution_count": null,
   "id": "424b052d",
   "metadata": {},
   "outputs": [],
   "source": [
    "for item in \"data science\":\n",
    "    print(item)"
   ]
  },
  {
   "cell_type": "markdown",
   "id": "1b44a572",
   "metadata": {},
   "source": [
    "len() Function  returns the length of a string"
   ]
  },
  {
   "cell_type": "code",
   "execution_count": null,
   "id": "145d01db",
   "metadata": {},
   "outputs": [],
   "source": [
    "a = \"Hello, World!\"\n",
    "print(len(a))"
   ]
  },
  {
   "cell_type": "markdown",
   "id": "9186717c",
   "metadata": {},
   "source": [
    "## Check String"
   ]
  },
  {
   "cell_type": "code",
   "execution_count": null,
   "id": "7d001670",
   "metadata": {},
   "outputs": [],
   "source": [
    "txt = \"Code Square data science bootcamp\""
   ]
  },
  {
   "cell_type": "code",
   "execution_count": null,
   "id": "d7013e3d",
   "metadata": {},
   "outputs": [],
   "source": [
    "print(\"bootcamp\" in txt)"
   ]
  },
  {
   "cell_type": "markdown",
   "id": "8bd768ab",
   "metadata": {},
   "source": [
    "## Use it in an if statement:"
   ]
  },
  {
   "cell_type": "code",
   "execution_count": null,
   "id": "433c7098",
   "metadata": {},
   "outputs": [],
   "source": [
    "txt = \"Code Square data science bootcamp\""
   ]
  },
  {
   "cell_type": "code",
   "execution_count": null,
   "id": "45db6477",
   "metadata": {},
   "outputs": [],
   "source": [
    "if \"bootcamp\" in txt:\n",
    "    print(\"Yes, 'bootcamp' is present.\")"
   ]
  },
  {
   "cell_type": "markdown",
   "id": "d5437adf",
   "metadata": {},
   "source": [
    "## Check if NOT"
   ]
  },
  {
   "cell_type": "code",
   "execution_count": null,
   "id": "2f8282ec",
   "metadata": {},
   "outputs": [],
   "source": [
    "txt = \"Code Square data science bootcamp\""
   ]
  },
  {
   "cell_type": "code",
   "execution_count": null,
   "id": "18694f1e",
   "metadata": {},
   "outputs": [],
   "source": [
    "print(\"data\" not in txt)"
   ]
  },
  {
   "cell_type": "markdown",
   "id": "c1535ffb",
   "metadata": {},
   "source": [
    "## print only if \"expensive\" is NOT present:"
   ]
  },
  {
   "cell_type": "code",
   "execution_count": null,
   "id": "e9af7340",
   "metadata": {},
   "outputs": [],
   "source": [
    "txt =  \"Code Square data science bootcamp\"\n",
    "if \"expensive\" not in txt:\n",
    "    print(\"No, 'expensive' is NOT present.\")"
   ]
  },
  {
   "cell_type": "markdown",
   "id": "17c6aa93",
   "metadata": {},
   "source": [
    "## Slicing "
   ]
  },
  {
   "cell_type": "code",
   "execution_count": null,
   "id": "5e7780d5",
   "metadata": {},
   "outputs": [],
   "source": [
    "b = \"Hello, World!\""
   ]
  },
  {
   "cell_type": "code",
   "execution_count": null,
   "id": "fff0dde7",
   "metadata": {},
   "outputs": [],
   "source": [
    "print(b[2:5])"
   ]
  },
  {
   "cell_type": "code",
   "execution_count": null,
   "id": "29fb3c6b",
   "metadata": {},
   "outputs": [],
   "source": [
    "print(b[:5])"
   ]
  },
  {
   "cell_type": "code",
   "execution_count": null,
   "id": "16ff30b9",
   "metadata": {},
   "outputs": [],
   "source": [
    "print(b[2:])"
   ]
  },
  {
   "cell_type": "markdown",
   "id": "ca027f39",
   "metadata": {},
   "source": [
    "## Negative Indexing"
   ]
  },
  {
   "cell_type": "code",
   "execution_count": null,
   "id": "d908a986",
   "metadata": {},
   "outputs": [],
   "source": [
    "b = \"Hello, World!\"\n",
    "print(b[-1])"
   ]
  },
  {
   "cell_type": "code",
   "execution_count": null,
   "id": "a886dfba",
   "metadata": {},
   "outputs": [],
   "source": [
    "print(b[-5:-2])"
   ]
  },
  {
   "cell_type": "markdown",
   "id": "ffe4038e",
   "metadata": {},
   "source": [
    "## Upper Case"
   ]
  },
  {
   "cell_type": "code",
   "execution_count": null,
   "id": "6ef10c32",
   "metadata": {},
   "outputs": [],
   "source": [
    "a = \"Hello, World!\"\n",
    "print(a.upper())"
   ]
  },
  {
   "cell_type": "code",
   "execution_count": null,
   "id": "7cef50bc",
   "metadata": {},
   "outputs": [],
   "source": [
    "print(a.lower())"
   ]
  },
  {
   "cell_type": "markdown",
   "id": "38f6cf93",
   "metadata": {},
   "source": [
    "### The strip() method removes any whitespace from the beginning or the end:"
   ]
  },
  {
   "cell_type": "code",
   "execution_count": null,
   "id": "4a142a78",
   "metadata": {},
   "outputs": [],
   "source": [
    "a = \" Hello, World! \""
   ]
  },
  {
   "cell_type": "code",
   "execution_count": null,
   "id": "9cc712fd",
   "metadata": {},
   "outputs": [],
   "source": [
    "print(a.strip())"
   ]
  },
  {
   "cell_type": "markdown",
   "id": "be14a69a",
   "metadata": {},
   "source": [
    "## The replace() method replaces a string with another string:"
   ]
  },
  {
   "cell_type": "code",
   "execution_count": null,
   "id": "21c640c4",
   "metadata": {},
   "outputs": [],
   "source": [
    "a = \"Hello, World!\"\n",
    "print(a.replace(\"H\", \"J\"))"
   ]
  },
  {
   "cell_type": "markdown",
   "id": "fe0ae758",
   "metadata": {},
   "source": [
    "## The split() method splits the string into substrings if it finds instances of the separator:"
   ]
  },
  {
   "cell_type": "code",
   "execution_count": null,
   "id": "d8051343",
   "metadata": {},
   "outputs": [],
   "source": [
    "a = \"Hello, World!\"\n",
    "print(a.split(\",\"))"
   ]
  },
  {
   "cell_type": "markdown",
   "id": "a2c15943",
   "metadata": {},
   "source": [
    "## String Concatenation"
   ]
  },
  {
   "cell_type": "code",
   "execution_count": null,
   "id": "613fb181",
   "metadata": {},
   "outputs": [],
   "source": [
    "a = \"Hello\"\n",
    "b = \"World\"\n",
    "c = a + b\n",
    "print(c)"
   ]
  },
  {
   "cell_type": "markdown",
   "id": "90843c15",
   "metadata": {},
   "source": [
    "## String Format"
   ]
  },
  {
   "cell_type": "code",
   "execution_count": null,
   "id": "80398485",
   "metadata": {},
   "outputs": [],
   "source": [
    "age = 27\n",
    "txt = \"My name is sohel, I am \" + age\n",
    "print(txt)"
   ]
  },
  {
   "cell_type": "markdown",
   "id": "f5d7bb12",
   "metadata": {},
   "source": [
    "## Create an f-string:"
   ]
  },
  {
   "cell_type": "code",
   "execution_count": null,
   "id": "df6c664b",
   "metadata": {},
   "outputs": [],
   "source": [
    "age = 27\n",
    "txt = f\"My name is sohel, I am {age}\"\n",
    "print(txt)"
   ]
  },
  {
   "cell_type": "markdown",
   "id": "4177ee6d",
   "metadata": {},
   "source": [
    "## Add a placeholder for the price variable:"
   ]
  },
  {
   "cell_type": "code",
   "execution_count": null,
   "id": "b4fa0017",
   "metadata": {},
   "outputs": [],
   "source": [
    "price = 59\n",
    "txt = f\"The price is {price} dollars\"\n",
    "print(txt)"
   ]
  },
  {
   "cell_type": "code",
   "execution_count": null,
   "id": "8b81dce7",
   "metadata": {},
   "outputs": [],
   "source": [
    "## The escape character allows you to use double quotes when you normally would not be allowed"
   ]
  },
  {
   "cell_type": "markdown",
   "id": "cf68ebdc",
   "metadata": {},
   "source": [
    "## Error"
   ]
  },
  {
   "cell_type": "code",
   "execution_count": null,
   "id": "916fab9a",
   "metadata": {},
   "outputs": [],
   "source": [
    "txt = \"We are the so-called \"Vikings\" from the north.\""
   ]
  },
  {
   "cell_type": "code",
   "execution_count": null,
   "id": "56d4c702",
   "metadata": {},
   "outputs": [],
   "source": [
    "txt"
   ]
  },
  {
   "cell_type": "code",
   "execution_count": 7,
   "id": "45ab983e",
   "metadata": {},
   "outputs": [],
   "source": [
    "txt = \"We are the so-called \\\"Vikings\\\" from the north.\""
   ]
  },
  {
   "cell_type": "code",
   "execution_count": null,
   "id": "2a4dbdc6",
   "metadata": {},
   "outputs": [],
   "source": [
    "txt "
   ]
  },
  {
   "cell_type": "markdown",
   "id": "b6444197",
   "metadata": {},
   "source": [
    "### Assignment Questions\n",
    "\n",
    "1. Create a variable `city` and assign the name of your favorite city to it. Print the variable.\n",
    "2. Print the data type of the variable `city`.\n",
    "3. Convert the integer `42` to a string and assign it to a new variable. Print the new variable.\n",
    "4. Create a variable `sentence` with the value \"Learning Python is fun and rewarding!\". Print the substring from index 9 to 15.\n",
    "5. Replace the word \"fun\" with \"exciting\" in the variable `sentence` and print the result.\n",
    "6. Concatenate the strings `first_name = \"John\"` and `last_name = \"Doe\"` with a space in between. Print the result.\n",
    "7. Use an f-string to create a sentence that includes the variables `city` and `temperature` (set temperature to 25.5). Print the sentence."
   ]
  },
  {
   "cell_type": "code",
   "execution_count": null,
   "id": "e1bd8e3c",
   "metadata": {},
   "outputs": [],
   "source": []
  }
 ],
 "metadata": {
  "kernelspec": {
   "display_name": "Python 3 (ipykernel)",
   "language": "python",
   "name": "python3"
  },
  "language_info": {
   "codemirror_mode": {
    "name": "ipython",
    "version": 3
   },
   "file_extension": ".py",
   "mimetype": "text/x-python",
   "name": "python",
   "nbconvert_exporter": "python",
   "pygments_lexer": "ipython3",
   "version": "3.12.7"
  }
 },
 "nbformat": 4,
 "nbformat_minor": 5
}
